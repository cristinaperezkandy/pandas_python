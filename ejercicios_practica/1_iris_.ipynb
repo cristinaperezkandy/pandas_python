{
  "cells": [
    {
      "cell_type": "markdown",
      "metadata": {
        "id": "Ea9CPlvttQda"
      },
      "source": [
        "<a href=\"https://www.inove.com.ar\"><img src=\"https://raw.githubusercontent.com/InoveAlumnos/dataset_analytics_python/master/images/PA%20Banner.png\" width=\"1000\" align=\"center\"></a>\n",
        "\n",
        "\n",
        "# Visualización y limpieza con Pandas\n",
        "\n",
        "Visualización de los datos del dataset iris\\\n",
        "v1.1"
      ]
    },
    {
      "cell_type": "markdown",
      "metadata": {
        "id": "jxYzK15jk-xe"
      },
      "source": [
        "<a href=\"https://www.inove.com.ar\"><img src=\"https://raw.githubusercontent.com/InoveAlumnos/dataset_analytics_python/master/iris_dataset.png\" width=\"1000\" align=\"center\"></a>"
      ]
    },
    {
      "cell_type": "code",
      "execution_count": null,
      "metadata": {
        "id": "xJN8ND5ctQdc"
      },
      "outputs": [],
      "source": [
        "import os\n",
        "import platform\n",
        "\n",
        "import numpy as np\n",
        "import matplotlib.pyplot as plt\n",
        "import seaborn as sns\n",
        "import pandas as pd\n",
        "\n",
        "from  sklearn import  datasets"
      ]
    },
    {
      "cell_type": "code",
      "execution_count": null,
      "metadata": {
        "id": "lEWhoHOyeYfk"
      },
      "outputs": [],
      "source": []
    },
    {
      "cell_type": "markdown",
      "metadata": {
        "id": "v-jK-TsQCwW9"
      },
      "source": [
        "# Recolectar datos\n",
        "<div align=\"center\"><img src=\"https://raw.githubusercontent.com/InoveAlumnos/dataset_analytics_python/master/images/Pipeline1.png\" width=\"1000\" align=\"middle\"></div>"
      ]
    },
    {
      "cell_type": "code",
      "execution_count": null,
      "metadata": {
        "id": "j9x_YEdTtQeC",
        "tags": []
      },
      "outputs": [],
      "source": [
        "iris=datasets.load_iris()\n",
        "df_data = pd.DataFrame(data= iris.data, columns= iris.feature_names)\n",
        "df_target = pd.DataFrame(data= iris.target, columns= ['species'])\n",
        "print(df_data.head())\n",
        "print(df_target.head())"
      ]
    },
    {
      "cell_type": "code",
      "execution_count": null,
      "metadata": {
        "id": "GofGC6M_eYS8"
      },
      "outputs": [],
      "source": [
        "# Generar una copia de df_target llamada \"df_target_categorical\" en el cual se almacenará los tipos de iris como variables categóricas (texto)\n",
        "df_target_categorical = df_target.copy()"
      ]
    },
    {
      "cell_type": "markdown",
      "metadata": {
        "id": "Q5I6l8ZCFaZ8"
      },
      "source": [
        "# Procesar datos\n",
        "<div align=\"center\"><img src=\"https://raw.githubusercontent.com/InoveAlumnos/dataset_analytics_python/master/images/Pipeline2.png\" width=\"1000\" align=\"middle\"></div>"
      ]
    },
    {
      "cell_type": "code",
      "execution_count": null,
      "metadata": {
        "id": "4RGDkJS_bLw5"
      },
      "outputs": [],
      "source": [
        "# Alumno: Utilizar apply y lambda expresion sobre df_target para modificar la columna \"species\" de df_target_categorical\n",
        "# la lambda debe devolver:\n",
        "# setosa --> si species = 0\n",
        "# versicolor --> si species = 1\n",
        "# virginica --> si species = 2\n",
        "\n",
        "# Tip:\n",
        "# df_target_categorical['species'] = df_target.apply(lambda......\n",
        "df_target_categorical['species'] = df_target.apply(lambda x: 'setosa' if x['species'] == 0 else 'versicolor' if x['species'] == 1 else 'virginica', axis=1)"
      ]
    },
    {
      "cell_type": "code",
      "execution_count": null,
      "metadata": {
        "id": "J780B25md6Tu"
      },
      "outputs": [],
      "source": [
        "# Alumno: Observar las primeras filas del nuevo df_target_categorical para corroborar que haya sido correcto el cambio\n",
        "df_target_categorical.head()"
      ]
    },
    {
      "cell_type": "code",
      "execution_count": null,
      "metadata": {
        "id": "sgClA-ymdAlq"
      },
      "outputs": [],
      "source": [
        "# Alumno: Contar cuantas especies de iris hay de cada una en el dataset df_target_categorical\n",
        "df_target_categorical['species'].value_counts()"
      ]
    },
    {
      "cell_type": "code",
      "execution_count": null,
      "metadata": {
        "id": "fhzTh4LlcUni"
      },
      "outputs": [],
      "source": [
        "# Concatenar ambos dataset\n",
        "df = pd.concat([df_data, df_target_categorical], axis= 1)\n",
        "df.head()"
      ]
    },
    {
      "cell_type": "code",
      "execution_count": null,
      "metadata": {
        "id": "NN-AOOTee11Z"
      },
      "outputs": [],
      "source": [
        "# Alumno: Analice si hay elementos incompletos en el dataset \"df_data\"\n",
        "des = df.describe()\n",
        "des.loc['Nan'] = df.isna().sum()\n",
        "des.loc['%Nan'] = (df.isna().mean()) * 100"
      ]
    },
    {
      "cell_type": "code",
      "execution_count": null,
      "metadata": {
        "id": "x88JG9AOeJzx"
      },
      "outputs": [],
      "source": [
        "# Alumno: ¿Cuántas filas/datos hay para analizar?\n",
        "# print(....)\n",
        "print('Datos disponibles para analizar: ', df.shape[0])"
      ]
    },
    {
      "cell_type": "markdown",
      "metadata": {
        "id": "8T_3enyVHYJa"
      },
      "source": [
        "# Explorar datos\n",
        "<div align=\"center\"><img src=\"https://raw.githubusercontent.com/InoveAlumnos/dataset_analytics_python/master/images/Pipeline3.png\" width=\"1000\" align=\"middle\"></div>"
      ]
    },
    {
      "cell_type": "code",
      "execution_count": null,
      "metadata": {
        "id": "5OZpKcO8Mh3A"
      },
      "outputs": [],
      "source": [
        "# Alumno, separe el dataset \"df\" en un dataset por tipo de iris\n",
        "\n",
        "\n",
        "df_setosa = df[df['species'] == 'setosa']\n",
        "df_versicolor = df[df['species'] == 'versicolor']\n",
        "df_virginica = df[df['species'] == 'virginica']"
      ]
    },
    {
      "cell_type": "code",
      "execution_count": null,
      "metadata": {
        "id": "vstdWr9uiMEr"
      },
      "outputs": [],
      "source": [
        "# Almuno: Realizar una función que reciba un dataframe como parámetro y grafique\n",
        "# la relación (scatter plot) entre \"petal length (cm)\" (x) y \"petal width (cm)\" (y) de la especie setosa\n",
        "def plot_petal(df, title):\n",
        "    plt.figure(figsize=(8, 6))\n",
        "    plt.scatter(df['petal length (cm)'], df['petal width (cm)'], label=title)\n",
        "    plt.xlabel('Petal Length (cm)')\n",
        "    plt.ylabel('Petal Width (cm)')\n",
        "    plt.title(f'Scatter Plot of {title}')\n",
        "    plt.legend()\n",
        "    plt.show()"
      ]
    },
    {
      "cell_type": "code",
      "execution_count": null,
      "metadata": {
        "id": "k5K0rKwthUqy"
      },
      "outputs": [],
      "source": [
        "# Almuno: Utilizar la función generada para graficar la relación con dada dataframe de cada especie\n",
        "plot_petal(df_setosa, 'Setosa')\n",
        "plot_petal(df_versicolor, 'Versicolor')\n",
        "plot_petal(df_virginica, 'Virginica')\n",
        "print (\"terminamos\")"
      ]
    },
    {
      "cell_type": "code",
      "execution_count": null,
      "metadata": {
        "id": "JaPw76qm0mmx"
      },
      "outputs": [],
      "source": []
    }
  ],
  "metadata": {
    "colab": {
      "provenance": [],
      "toc_visible": true
    },
    "kernelspec": {
      "display_name": "Python 3",
      "language": "python",
      "name": "python3"
    },
    "language_info": {
      "codemirror_mode": {
        "name": "ipython",
        "version": 3
      },
      "file_extension": ".py",
      "mimetype": "text/x-python",
      "name": "python",
      "nbconvert_exporter": "python",
      "pygments_lexer": "ipython3",
      "version": "3.8.5"
    }
  },
  "nbformat": 4,
  "nbformat_minor": 0
}
